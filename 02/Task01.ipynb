{
 "cells": [
  {
   "cell_type": "code",
   "execution_count": null,
   "metadata": {},
   "outputs": [],
   "source": []
  }
 ],
 "metadata": {
  "kernelspec": {
   "display_name": "machine_learning_web",
   "language": "python",
   "name": "python3"
  },
  "language_info": {
   "name": "python",
   "version": "3.11.0"
  },
  "orig_nbformat": 4,
  "vscode": {
   "interpreter": {
    "hash": "a0f0f2df8c7fa9d730d9c2f6d446b8c22b8b8c273eb18e11e5a661c840ab064e"
   }
  }
 },
 "nbformat": 4,
 "nbformat_minor": 2
}
