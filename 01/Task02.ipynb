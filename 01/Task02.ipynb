{
 "cells": [
  {
   "cell_type": "code",
   "execution_count": 6,
   "metadata": {},
   "outputs": [],
   "source": [
    "import numpy as np\n",
    "import graph_tool.all as gt\n",
    "\n",
    "iterations = 1000  # number of page rank iterations\n",
    "\n",
    "size = 200\n",
    "graph_er = np.zeros((size, size))\n",
    "p = 0.05"
   ]
  },
  {
   "cell_type": "code",
   "execution_count": 7,
   "metadata": {},
   "outputs": [],
   "source": [
    "# Erdösz-Renyi\n",
    "for i in range(size):\n",
    "    for j in range(i):\n",
    "        rand = np.random.rand()\n",
    "        if rand <= p:\n",
    "            graph_er[i, j] = 1\n",
    "            graph_er[j, i] = 1\n",
    "\n",
    "# Calculate page rank\n",
    "row_sum = np.sum(graph_er, axis=1)\n",
    "row_sum[row_sum == 0] = 1\n",
    "B = graph_er / row_sum\n",
    "B_l = B.copy()\n",
    "r = np.ones((size, 1)) / size\n",
    "for i in range(iterations - 1):\n",
    "    B_l = np.matmul(B, B_l)\n",
    "page_rank_er = np.matmul(B_l, r)"
   ]
  },
  {
   "cell_type": "code",
   "execution_count": 8,
   "metadata": {},
   "outputs": [],
   "source": [
    "# Barabasi Albert\n",
    "graph_ba = np.zeros((size, size))\n",
    "m = 5\n",
    "graph_ba[0:m, 0:m] = 1  # Start with a small fully connected graph\n",
    "\n",
    "for i in range(m, size):  # Generate the rest of the graph\n",
    "    for _ in range(m):\n",
    "        rand = np.random.rand()\n",
    "        cum_prob = 0\n",
    "        for j in range(i):\n",
    "            cum_prob += np.sum(graph_ba[j]) / np.sum(graph_ba)\n",
    "            if rand <= cum_prob:\n",
    "                graph_ba[i, j] = 1\n",
    "                graph_ba[j, i] = 1\n",
    "                break\n",
    "\n",
    "# Calculate page rank\n",
    "row_sum = np.sum(graph_ba, axis=1)\n",
    "row_sum[row_sum == 0] = 1\n",
    "B = graph_ba / row_sum\n",
    "r = np.ones((size, 1)) / size\n",
    "B_l = B.copy()\n",
    "for i in range(iterations - 1):\n",
    "    B = np.matmul(B, B_l)\n",
    "B = np.matmul(B, r)\n",
    "page_rank_ba = B.copy()"
   ]
  },
  {
   "cell_type": "code",
   "execution_count": 9,
   "metadata": {},
   "outputs": [
    {
     "name": "stdout",
     "output_type": "stream",
     "text": [
      "     Page rank Erdösz-Renyi\n",
      "0                  0.003448\n",
      "1                  0.003448\n",
      "2                  0.004433\n",
      "3                  0.004433\n",
      "4                  0.003448\n",
      "..                      ...\n",
      "195                0.004926\n",
      "196                0.004433\n",
      "197                0.004433\n",
      "198                0.006404\n",
      "199                0.006404\n",
      "\n",
      "[200 rows x 1 columns]\n",
      "     Page rank Barabasi-Albert\n",
      "0                     0.019546\n",
      "1                     0.015320\n",
      "2                     0.013735\n",
      "3                     0.029054\n",
      "4                     0.021659\n",
      "..                         ...\n",
      "195                   0.002641\n",
      "196                   0.002641\n",
      "197                   0.002641\n",
      "198                   0.002641\n",
      "199                   0.002641\n",
      "\n",
      "[200 rows x 1 columns]\n"
     ]
    }
   ],
   "source": [
    "import pandas as pd\n",
    "\n",
    "# Show page ranks\n",
    "print(pd.DataFrame(page_rank_er, columns=[\"Page rank Erdösz-Renyi\"]))\n",
    "print(pd.DataFrame(page_rank_ba, columns=[\"Page rank Barabasi-Albert\"]))"
   ]
  },
  {
   "cell_type": "code",
   "execution_count": 10,
   "metadata": {},
   "outputs": [
    {
     "data": {
      "text/plain": [
       "<VertexPropertyMap object with value type 'vector<double>', for Graph 0x7f1f3120b910, at 0x7f1f30e93f10>"
      ]
     },
     "execution_count": 10,
     "metadata": {},
     "output_type": "execute_result"
    }
   ],
   "source": [
    "# Plot results\n",
    "g = gt.Graph(directed=False)\n",
    "g.add_vertex(size)\n",
    "for i in range(size):\n",
    "    for j in range(i):\n",
    "        if graph_er[i, j] == 1:\n",
    "            g.add_edge(g.vertex(i), g.vertex(j))\n",
    "\n",
    "pos = gt.sfdp_layout(g)\n",
    "gt.graph_draw(\n",
    "    g,\n",
    "    pos=pos,\n",
    "    vertex_fill_color=page_rank_er,\n",
    "    vertex_size=10,\n",
    "    output_size=(1000, 1000),\n",
    "    output=\"erdos_renyi.png\",\n",
    ")\n",
    "\n",
    "g = gt.Graph(directed=False)\n",
    "g.add_vertex(size)\n",
    "for i in range(size):\n",
    "    for j in range(i):\n",
    "        if graph_ba[i, j] == 1:\n",
    "            g.add_edge(g.vertex(i), g.vertex(j))\n",
    "\n",
    "pos = gt.sfdp_layout(g)\n",
    "gt.graph_draw(\n",
    "    g,\n",
    "    pos=pos,\n",
    "    vertex_fill_color=page_rank_ba,\n",
    "    vertex_size=10,\n",
    "    output_size=(1000, 1000),\n",
    "    output=\"barabasi_albert.png\",\n",
    ")"
   ]
  },
  {
   "attachments": {},
   "cell_type": "markdown",
   "metadata": {},
   "source": [
    "![Erdösz-Renyi](erdos_renyi.png)\n",
    "![Barabasi Albert](barabasi_albert.png)"
   ]
  }
 ],
 "metadata": {
  "kernelspec": {
   "display_name": "machine_learning_web",
   "language": "python",
   "name": "python3"
  },
  "language_info": {
   "codemirror_mode": {
    "name": "ipython",
    "version": 3
   },
   "file_extension": ".py",
   "mimetype": "text/x-python",
   "name": "python",
   "nbconvert_exporter": "python",
   "pygments_lexer": "ipython3",
   "version": "3.11.0"
  },
  "orig_nbformat": 4,
  "vscode": {
   "interpreter": {
    "hash": "a0f0f2df8c7fa9d730d9c2f6d446b8c22b8b8c273eb18e11e5a661c840ab064e"
   }
  }
 },
 "nbformat": 4,
 "nbformat_minor": 2
}
